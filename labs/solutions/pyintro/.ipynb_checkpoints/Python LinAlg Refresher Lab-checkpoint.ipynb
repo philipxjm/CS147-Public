{
 "cells": [
  {
   "cell_type": "markdown",
   "metadata": {},
   "source": [
    "# CSCI1470 Python Refresher\n",
    "\n",
    "This course will be primarily taught in Tensorflow on Python3. Tensorflow is an open source deep learning library created by Google. Currently it is the most popular and widely used library.\n",
    "\n",
    "This lab is a refresher on Python3 and basic linear algebra; you will be expected to be familiar both in this class. **Treat this lab as your ONLY opportunity to ask questions about general coding with python, this is a class on deep learning, not software engineering. For every upcoming assignment and labs, you will be expected to have a working knowledge of python and linear algebra.**\n",
    "\n",
    "Visit [this link](https://github.com/philipxjm) for instructions on how to install python on your system.\n",
    "\n",
    "Visit [this link](https://virtualenv.pypa.io/en/stable/) for instructions on how to setup virtualenvs (virtual environments) for easy, isolated Python workspaces.\n",
    "\n",
    "Let's get started."
   ]
  },
  {
   "cell_type": "markdown",
   "metadata": {},
   "source": [
    "## Hello World ##\n",
    "Printing in Python can be done with the `print` function."
   ]
  },
  {
   "cell_type": "code",
   "execution_count": 1,
   "metadata": {},
   "outputs": [
    {
     "name": "stdout",
     "output_type": "stream",
     "text": [
      "Hello World!\n"
     ]
    }
   ],
   "source": [
    "print \"Hello World!\""
   ]
  },
  {
   "cell_type": "markdown",
   "metadata": {},
   "source": [
    "## Libraries ##\n",
    "\n",
    "Python has a number of built-in modules and libraries that offer convenient access to useful functions. These libraries can be imported by using the built-in `import` function followed by the library name.\n",
    "\n",
    "Here is one example with the `random` library that can be used for generating a series of random integers within some specified range."
   ]
  },
  {
   "cell_type": "code",
   "execution_count": 3,
   "metadata": {},
   "outputs": [
    {
     "name": "stdout",
     "output_type": "stream",
     "text": [
      "92\n",
      "33\n",
      "94\n",
      "37\n",
      "93\n"
     ]
    }
   ],
   "source": [
    "import random\n",
    "for i in range(5):\n",
    "\tprint(random.randint(10,99))"
   ]
  },
  {
   "cell_type": "markdown",
   "metadata": {},
   "source": [
    "## Identation ##\n",
    "Notice that Python uses indentation and colons in order to specify scope."
   ]
  },
  {
   "cell_type": "code",
   "execution_count": 6,
   "metadata": {},
   "outputs": [
    {
     "name": "stdout",
     "output_type": "stream",
     "text": [
      "0\n",
      "2\n",
      "4\n",
      "6\n",
      "8\n",
      "done.\n"
     ]
    }
   ],
   "source": [
    "x = 0\n",
    " \n",
    "while x < 10:\n",
    "\tif x % 2 == 0:\n",
    "\t\tprint x\n",
    "\tx += 1\n",
    " \n",
    "print 'done.'"
   ]
  },
  {
   "cell_type": "markdown",
   "metadata": {},
   "source": [
    "## Dynamic Typing ##\n",
    "In Python, variables are associated with single objects and no data types. Furthermore, primitive data types in Python are immutable."
   ]
  },
  {
   "cell_type": "code",
   "execution_count": 7,
   "metadata": {},
   "outputs": [
    {
     "name": "stdout",
     "output_type": "stream",
     "text": [
      "5\n",
      "<type 'int'>\n",
      "3.2\n",
      "<type 'float'>\n",
      "spam\n",
      "<type 'str'>\n"
     ]
    }
   ],
   "source": [
    "var = 5\n",
    "print var\n",
    "print type(var)\n",
    "\n",
    "var = 3.2\n",
    "print var\n",
    "print type(var)\n",
    "\n",
    "var = 'spam'\n",
    "print var\n",
    "print type(var)"
   ]
  },
  {
   "cell_type": "markdown",
   "metadata": {},
   "source": [
    "## Strings ##\n",
    "Python supports strings along with the expected indexing schema and methods."
   ]
  },
  {
   "cell_type": "code",
   "execution_count": 8,
   "metadata": {},
   "outputs": [
    {
     "name": "stdout",
     "output_type": "stream",
     "text": [
      "ham \n",
      "4\n",
      "['ham', 'and', 'eggs']\n"
     ]
    }
   ],
   "source": [
    "mystring = 'ham and eggs'\n",
    "print mystring[0:4]\n",
    "print mystring.find('and')\n",
    "print mystring.split(' ')"
   ]
  },
  {
   "cell_type": "markdown",
   "metadata": {},
   "source": [
    "## Lists ##\n",
    "Lists/arrays are mutable objects in Python."
   ]
  },
  {
   "cell_type": "code",
   "execution_count": 9,
   "metadata": {},
   "outputs": [
    {
     "name": "stdout",
     "output_type": "stream",
     "text": [
      "[1, 2, 'three']\n",
      "3000\n",
      "13\n",
      "[1, 1, 2, 3, 3000, 8]\n"
     ]
    }
   ],
   "source": [
    "mylist = []\n",
    "mylist.append(1)\n",
    "mylist.append(2)\n",
    "mylist.append(\"three\")\n",
    "\n",
    "print mylist\n",
    " \n",
    "newlist = [1,1,2,3,5,8,13]\n",
    "newlist[4] = 3000\n",
    "print newlist[4]\n",
    "print newlist[-1]\n",
    "newlist.pop()\n",
    "print newlist"
   ]
  },
  {
   "cell_type": "markdown",
   "metadata": {},
   "source": [
    "## Tuples ##\n",
    "Tuples are immutable however their constituent elements can be altered."
   ]
  },
  {
   "cell_type": "code",
   "execution_count": 12,
   "metadata": {},
   "outputs": [
    {
     "name": "stdout",
     "output_type": "stream",
     "text": [
      "See why this returns an error?\n",
      "(12, 34.56, 'abc', 'xyz')\n",
      "4\n",
      "12\n",
      "34.56\n",
      "abc\n",
      "xyz\n"
     ]
    }
   ],
   "source": [
    "tup1 = (12, 34.56);\n",
    "tup2 = ('abc', 'xyz');\n",
    "\n",
    "try:\n",
    "    tup1[0] = 100;\n",
    "except TypeError:\n",
    "    print 'See why this returns an error?'\n",
    "\n",
    "\n",
    "tup3 = tup1 + tup2;\n",
    "print tup3\n",
    "print len(tup3)\n",
    "for x in tup3: print x"
   ]
  },
  {
   "cell_type": "markdown",
   "metadata": {},
   "source": [
    "## Dictionaries ##\n",
    "Python also supports dictionaries (hash maps) for mapping between specified keys and values."
   ]
  },
  {
   "cell_type": "code",
   "execution_count": 13,
   "metadata": {},
   "outputs": [
    {
     "name": "stdout",
     "output_type": "stream",
     "text": [
      "1\n",
      "{'four': 4, 'three': 3, 'two': 2}\n",
      "['four', 'three', 'two']\n"
     ]
    }
   ],
   "source": [
    "numbers = {'one': 1, 'two': 2, 'three': 3, 'four': 4 }\n",
    "print numbers['one']\n",
    "del numbers['one']\n",
    "print numbers\n",
    "print numbers.keys()"
   ]
  },
  {
   "cell_type": "markdown",
   "metadata": {},
   "source": [
    "## Name binding ##\n",
    "Notice that Python assignment binds a name to a particular object. If your goal is to make an independent clone of an object, you should use the `deepcopy` function from Python's `copy` library. "
   ]
  },
  {
   "cell_type": "code",
   "execution_count": 14,
   "metadata": {},
   "outputs": [
    {
     "name": "stdout",
     "output_type": "stream",
     "text": [
      "[1, 2] [1, 2]\n",
      "[1, 2, 3]\n",
      "1 1\n",
      "1\n",
      "2\n"
     ]
    }
   ],
   "source": [
    "a = [1, 2]\n",
    "b = a\n",
    "print b, a\n",
    "b.append(3)\n",
    "print a\n",
    "\n",
    "a = 1\n",
    "b = a\n",
    "print b, a\n",
    "b=b+1\n",
    "print a\n",
    "print b"
   ]
  },
  {
   "cell_type": "markdown",
   "metadata": {},
   "source": [
    "## Control Flow ##\n",
    "Here are examples of if-else statements, for loops, and while loops in Python. Notice how identation controls scope in each statement."
   ]
  },
  {
   "cell_type": "code",
   "execution_count": 15,
   "metadata": {},
   "outputs": [
    {
     "name": "stdout",
     "output_type": "stream",
     "text": [
      "adult\n"
     ]
    }
   ],
   "source": [
    "age = 22\n",
    " \n",
    "if age < 13:\n",
    "    print 'kid'\n",
    "elif age < 18:\n",
    "    print 'teen'\n",
    "else:\n",
    "    print 'adult'"
   ]
  },
  {
   "cell_type": "code",
   "execution_count": 16,
   "metadata": {},
   "outputs": [
    {
     "name": "stdout",
     "output_type": "stream",
     "text": [
      "Did not break\n"
     ]
    }
   ],
   "source": [
    "for i in range(5):\n",
    "    pass\n",
    " \n",
    "for i in [0, 1, 2, 3, 4]:\n",
    "    if i > 5:\n",
    "        break\n",
    "else:\n",
    "    print 'Did not break'"
   ]
  },
  {
   "cell_type": "code",
   "execution_count": 17,
   "metadata": {},
   "outputs": [
    {
     "name": "stdout",
     "output_type": "stream",
     "text": [
      "512\n",
      "32\n",
      "2\n"
     ]
    }
   ],
   "source": [
    "x = 1024\n",
    " \n",
    "while x > 1:\n",
    "    x = x / 2\n",
    "    if (x % 10) != 2:\n",
    "        continue\n",
    "    print x"
   ]
  },
  {
   "cell_type": "markdown",
   "metadata": {},
   "source": [
    "## Try-Except ##\n",
    "Python also supports try-except statements for error handling."
   ]
  },
  {
   "cell_type": "code",
   "execution_count": 18,
   "metadata": {},
   "outputs": [
    {
     "name": "stdout",
     "output_type": "stream",
     "text": [
      "Exception!\n",
      "Done.\n"
     ]
    }
   ],
   "source": [
    "try:\n",
    "    1/0\n",
    "except:\n",
    "    print 'Exception!'\n",
    "else:\n",
    "    print 'No exception!'\n",
    "finally:\n",
    "    print 'Done.'"
   ]
  },
  {
   "cell_type": "markdown",
   "metadata": {},
   "source": [
    "## Functions ##\n",
    "Specify functions using the `def` keyword."
   ]
  },
  {
   "cell_type": "code",
   "execution_count": 1,
   "metadata": {},
   "outputs": [
    {
     "name": "stdout",
     "output_type": "stream",
     "text": [
      "Not default value\n",
      "Default value\n"
     ]
    }
   ],
   "source": [
    "def example_func(str=\"Default value\"):\n",
    "    print(str)\n",
    " \n",
    "example_func(\"Not default value\")\n",
    "example_func()"
   ]
  },
  {
   "cell_type": "markdown",
   "metadata": {},
   "source": [
    "## Classes ##\n",
    "Specify classes using the `class` keyword. Notice the `__` around the first method of this class; this denotes what are more commonly referred to as [\"magic methods\"](http://minhhh.github.io/posts/a-guide-to-pythons-magic-methods) in Python. The magic method defined for this class is the constructor that you will need to define for all your classes."
   ]
  },
  {
   "cell_type": "code",
   "execution_count": null,
   "metadata": {
    "collapsed": true
   },
   "outputs": [],
   "source": [
    "import math\n",
    " \n",
    "class Vector2:\n",
    "    def __init__(self, x, y):\n",
    "        self.x = x\n",
    "        self.y = y\n",
    " \n",
    "    def len(self):\n",
    "        return math.sqrt(self.x**2 +\n",
    "                         self.y**2)\n",
    " \n",
    "    _DoNotTouch = 10\n",
    " \n",
    " \n",
    "v = Vector2(3, 4)\n",
    "print \"({},{}):\".format(v.x, v.y), \\\n",
    "      \"len = {}\".format(v.len())"
   ]
  },
  {
   "cell_type": "markdown",
   "metadata": {},
   "source": [
    "## Fibonacci (Checkoff)"
   ]
  },
  {
   "cell_type": "code",
   "execution_count": null,
   "metadata": {},
   "outputs": [],
   "source": [
    "# TODO implement fibonacci numbers\n",
    "# parameters: num -> int, numbers of fibonacci's to generate\n",
    "# returns:    sequence -> list, generated fibonacci sequence\n",
    "def fibonacci(num):\n",
    "    sequence = []\n",
    "    return sequence\n",
    "assert(fibonacci(10)[9] == 34)\n"
   ]
  },
  {
   "cell_type": "markdown",
   "metadata": {},
   "source": [
    "## Numpy (Numeric Python) ##\n",
    "For much of this course, you will often find yourself in need of creating, modifying, and combining n-dimensional arrays. Numpy is the standard Python library for quickly, cleanly, and efficiently performing all of these functions.\n",
    "\n",
    "Here are just a few examples with basic Numpy arrays. \n",
    "\n",
    "For a more in-depth view of the other useful features of Numpy, visit [this tutorial](http://cs231n.github.io/python-numpy-tutorial/#numpy)."
   ]
  },
  {
   "cell_type": "code",
   "execution_count": 3,
   "metadata": {},
   "outputs": [
    {
     "ename": "SyntaxError",
     "evalue": "Missing parentheses in call to 'print'. Did you mean print(a)? (<ipython-input-3-f96e0f750e1f>, line 4)",
     "output_type": "error",
     "traceback": [
      "\u001b[0;36m  File \u001b[0;32m\"<ipython-input-3-f96e0f750e1f>\"\u001b[0;36m, line \u001b[0;32m4\u001b[0m\n\u001b[0;31m    print a\u001b[0m\n\u001b[0m          ^\u001b[0m\n\u001b[0;31mSyntaxError\u001b[0m\u001b[0;31m:\u001b[0m Missing parentheses in call to 'print'. Did you mean print(a)?\n"
     ]
    }
   ],
   "source": [
    "import numpy as np\n",
    " \n",
    "a = np.array([1, 4, 5, 8], float)\n",
    "print a\n",
    "\n",
    "m = np.array([[1, 2, 3], [4, 5, 6]], float)\n",
    "print m\n",
    "m = np.array(range(8), float).reshape((2, 4))\n",
    "print m, m.shape\n",
    "print m.transpose(), m.transpose().shape"
   ]
  },
  {
   "cell_type": "code",
   "execution_count": 23,
   "metadata": {},
   "outputs": [
    {
     "name": "stdout",
     "output_type": "stream",
     "text": [
      "1.0\n",
      "2.0\n",
      "3.0\n",
      "add:  [ 6.  4.  9.]\n",
      "multiply:  [  5.   4.  18.]\n",
      "divide:  [ 5.  1.  2.]\n",
      "square root:  [ 1.          1.41421356  1.73205081]\n",
      "matrix multiplication:  27.0\n"
     ]
    }
   ],
   "source": [
    "import numpy as np\n",
    "\n",
    "a = np.array([1,2,3], float)\n",
    "b = np.array([5,2,6], float)\n",
    "\n",
    "for x in a: print x\n",
    "\n",
    "print \"add: \", a+b\n",
    "print \"multiply: \", a*b\n",
    "print \"divide: \", b/a\n",
    "print \"square root: \", np.sqrt(a)\n",
    "\n",
    "print \"matrix multiplication: \", np.dot(a, b)\n",
    "\n",
    "#print \"logic values: \", b>a\n",
    "#np.poly([-1, 1, 1, 10])\n",
    "\n",
    "#print np.mean(a)\n",
    "#print np.var(a)"
   ]
  },
  {
   "cell_type": "markdown",
   "metadata": {},
   "source": [
    "## Acknowledgements & Sources ##\n",
    "This tutorial was adapted from an analogous tutorial and slides developed by Zhenyu Zhou, Richard Guo, Cam Allen-Lloyd, and Nakul Gopalan.\n",
    "\n",
    "Wikibooks\n",
    "\n",
    "A Guide to Python's Magic Methods by Ha Minh\n",
    "\n",
    "Python Numpy Tutorial written by Justin Johnson for Stanford's CS231n: Convolutional Neural Networks for Visual Recognition"
   ]
  },
  {
   "cell_type": "code",
   "execution_count": null,
   "metadata": {
    "collapsed": true
   },
   "outputs": [],
   "source": []
  }
 ],
 "metadata": {
  "kernelspec": {
   "display_name": "Python 3",
   "language": "python",
   "name": "python3"
  },
  "language_info": {
   "codemirror_mode": {
    "name": "ipython",
    "version": 3
   },
   "file_extension": ".py",
   "mimetype": "text/x-python",
   "name": "python",
   "nbconvert_exporter": "python",
   "pygments_lexer": "ipython3",
   "version": "3.6.5"
  }
 },
 "nbformat": 4,
 "nbformat_minor": 2
}
